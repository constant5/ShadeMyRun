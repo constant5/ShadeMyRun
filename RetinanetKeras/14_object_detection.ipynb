{
  "nbformat": 4,
  "nbformat_minor": 0,
  "metadata": {
    "colab": {
      "name": "14.object-detection.ipynb",
      "provenance": [],
      "collapsed_sections": []
    },
    "kernelspec": {
      "name": "python3",
      "display_name": "Python 3"
    },
    "accelerator": "GPU"
  },
  "cells": [
    {
      "cell_type": "code",
      "metadata": {
        "id": "gjUZ18c7aPI0",
        "colab_type": "code",
        "colab": {
          "base_uri": "https://localhost:8080/",
          "height": 306
        },
        "outputId": "689424ed-a63f-408f-c66d-e69a5bb11698",
        "tags": []
      },
      "source": [
        "!nvidia-smi"
      ],
      "execution_count": null,
      "outputs": []
    },
    {
      "cell_type": "code",
      "metadata": {
        "id": "l4dOT5rAuJnu",
        "colab_type": "code",
        "colab": {
          "base_uri": "https://localhost:8080/",
          "height": 34
        },
        "outputId": "d3b54528-5cd8-4fc8-dc02-e506b885778c",
        "tags": []
      },
      "source": [
        "!git clone https://github.com/fizyr/keras-retinanet.git"
      ],
      "execution_count": null,
      "outputs": []
    },
    {
      "cell_type": "code",
      "metadata": {
        "id": "DVKXABBa0mOI",
        "colab_type": "code",
        "colab": {
          "base_uri": "https://localhost:8080/",
          "height": 153
        },
        "outputId": "a5a2f108-9042-4638-f74b-5a304cc3d30e",
        "tags": []
      },
      "source": [
        "!pip install --upgrade keras"
      ],
      "execution_count": null,
      "outputs": []
    },
    {
      "cell_type": "code",
      "metadata": {
        "id": "rY8Deq3muMLt",
        "colab_type": "code",
        "colab": {
          "base_uri": "https://localhost:8080/",
          "height": 476
        },
        "outputId": "d6281fb7-bc9c-4029-deb4-8213ec67bc6f",
        "tags": []
      },
      "source": [
        "!pip install ."
      ],
      "execution_count": null,
      "outputs": []
    },
    {
      "cell_type": "code",
      "metadata": {
        "id": "CxcI_VbKuPnI",
        "colab_type": "code",
        "colab": {
          "base_uri": "https://localhost:8080/",
          "height": 68
        },
        "outputId": "6e559415-a26a-4252-ceea-35829e7a2417",
        "tags": []
      },
      "source": [
        "!pip3 install setuptools\n",
        "!python3 setup.py build_ext --inplace"
      ],
      "execution_count": null,
      "outputs": []
    },
    {
      "cell_type": "code",
      "metadata": {
        "id": "uhtRRqvTaW-h",
        "colab_type": "code",
        "colab": {
          "base_uri": "https://localhost:8080/",
          "height": 731
        },
        "outputId": "ec48b8ef-557a-4d5e-8a4e-98d4249f5e9e",
        "tags": []
      },
      "source": [
        "!pip install gdown\n",
        "!pip install tensorflow-gpu"
      ],
      "execution_count": null,
      "outputs": []
    },
    {
      "cell_type": "code",
      "execution_count": null,
      "metadata": {},
      "outputs": [],
      "source": [
        "import numpy as np\n",
        "import tensorflow as tf\n",
        "import pandas as pd\n",
        "import seaborn as sns\n",
        "from pylab import rcParams\n",
        "import matplotlib.pyplot as plt\n",
        "from matplotlib import rc\n",
        "from pandas.plotting import register_matplotlib_converters\n",
        "from sklearn.model_selection import train_test_split\n",
        "import urllib\n",
        "import os\n",
        "import csv\n",
        "import cv2\n",
        "import time\n",
        "from PIL import Image\n",
        "import xmltodict\n",
        "import json\n",
        "import collections\n",
        "import os\n",
        "import random\n",
        "\n",
        "from keras_retinanet import models\n",
        "from keras_retinanet.utils.image import read_image_bgr, preprocess_image, resize_image\n",
        "from keras_retinanet.utils.visualization import draw_box, draw_caption\n",
        "from keras_retinanet.utils.colors import label_color\n"
      ]
    },
    {
      "cell_type": "code",
      "metadata": {
        "id": "VBYDQI_we0vA",
        "colab_type": "code",
        "colab": {}
      },
      "source": [
        "%matplotlib inline\n",
        "%config InlineBackend.figure_format='retina'\n",
        "\n",
        "register_matplotlib_converters()\n",
        "sns.set(style='whitegrid', palette='muted', font_scale=1.5)\n",
        "\n",
        "rcParams['figure.figsize'] = 22, 10\n",
        "\n",
        "RANDOM_SEED = 42\n",
        "\n",
        "np.random.seed(RANDOM_SEED)\n",
        "tf.random.set_seed(RANDOM_SEED)"
      ],
      "execution_count": null,
      "outputs": []
    },
    {
      "cell_type": "code",
      "execution_count": null,
      "metadata": {},
      "outputs": [],
      "source": [
        "json_data_file = '/home/zac/RetinanetKeras/widowmaker_cv/widow_cv.json'\n",
        "data_path = '/home/zac/RetinanetKeras/widowmaker_cv/'\n",
        "ANNOTATIONS_FILE = 'annotations.csv'\n",
        "CLASSES_FILE = 'classes.csv'\n",
        "THRES_SCORE = 0.2\n",
        "#os.path.join('snapshots', sorted(os.listdir('snapshots'), reverse=True)[0])\n",
        "model_path = '/home/zac/RetinanetKeras/keras-retinanet/snapshots/'\n",
        "#PRETRAINED_MODEL = './snapshots/_pretrained_model.h5'\n",
        "PRETRAINED_MODEL = '_pretrained_model.h5'\n"
      ]
    },
    {
      "cell_type": "code",
      "metadata": {
        "id": "hHeioKDkfHAp",
        "colab_type": "code",
        "colab": {
          "base_uri": "https://localhost:8080/",
          "height": 85
        },
        "outputId": "f64008f7-4b0a-474e-8904-39e316593c4a",
        "tags": []
      },
      "source": [
        "#!gdown --id 1mTtB8GTWs74Yeqm0KMExGJZh1eDbzUlT --output data.json\n",
        "#!gdown --id 1wPgOBoSks6bTIs9RzNvZf6HWROkciS8R --output snapshots/resnet50_csv_10.h5"
      ],
      "execution_count": null,
      "outputs": []
    },
    {
      "cell_type": "code",
      "metadata": {
        "id": "CGp_-FK3QOow",
        "colab_type": "code",
        "colab": {}
      },
      "source": [
        "datafile = pd.read_json(json_data_file, lines=True)"
      ],
      "execution_count": null,
      "outputs": []
    },
    {
      "cell_type": "code",
      "metadata": {
        "id": "X8QCIRsSSIw4",
        "colab_type": "code",
        "colab": {
          "base_uri": "https://localhost:8080/",
          "height": 34
        },
        "outputId": "b2fe2c6d-47e7-4e3f-b6c0-e810c81d8923",
        "tags": []
      },
      "source": [
        "dataset = dict()\n",
        "dataset[\"image_name\"] = list()\n",
        "dataset[\"x_min\"] = list()\n",
        "dataset[\"y_min\"] = list()\n",
        "dataset[\"x_max\"] = list()\n",
        "dataset[\"y_max\"] = list()\n",
        "dataset[\"class_name\"] = list()\n",
        "\n",
        "#counter = 0\n",
        "for index, row in datafile.iterrows():\n",
        "    for annotation in row[\"annotation\"]:\n",
        "        dataset[\"image_name\"].append(row[\"content\"])\n",
        "        dataset[\"x_min\"].append(annotation[\"x_min\"])\n",
        "        dataset[\"y_min\"].append(annotation[\"y_min\"])\n",
        "        dataset[\"x_max\"].append(annotation[\"x_max\"])\n",
        "        dataset[\"y_max\"].append(annotation[\"y_max\"])\n",
        "        dataset[\"class_name\"].append(annotation[\"label\"])\n",
        "\n",
        "print(\"Dataset lengths should match\")\n",
        "print(len(dataset[\"image_name\"]))\n",
        "print(len(dataset[\"x_min\"]))\n",
        "print(len(dataset[\"y_min\"]))\n",
        "print(len(dataset[\"x_max\"]))\n",
        "print(len(dataset[\"y_max\"]))\n",
        "print(len(dataset[\"class_name\"]))"
      ],
      "execution_count": null,
      "outputs": []
    },
    {
      "cell_type": "code",
      "metadata": {
        "id": "OqtCx6nJTCwL",
        "colab_type": "code",
        "colab": {
          "base_uri": "https://localhost:8080/",
          "height": 204
        },
        "outputId": "9240fa72-3e86-4b46-8426-351f908fbb37"
      },
      "source": [
        "df = pd.DataFrame(dataset)\n",
        "df.head()"
      ],
      "execution_count": null,
      "outputs": []
    },
    {
      "cell_type": "code",
      "metadata": {
        "id": "cT6YyNrXEYZo",
        "colab_type": "code",
        "colab": {}
      },
      "source": [
        "def show_image_objects(image_row):\n",
        "\n",
        "  img_path = image_row.image_name\n",
        "  box = [\n",
        "    image_row.x_min, image_row.y_min, image_row.x_max, image_row.y_max\n",
        "  ]\n",
        "\n",
        "  image = read_image_bgr(img_path)\n",
        "  \n",
        "  draw = image.copy()\n",
        "  draw = cv2.cvtColor(draw, cv2.COLOR_BGR2RGB)\n",
        "\n",
        "  draw_box(draw, box, color=(255, 255, 0))\n",
        "\n",
        "  plt.axis('off')\n",
        "  plt.imshow(draw)\n",
        "  plt.show()"
      ],
      "execution_count": null,
      "outputs": []
    },
    {
      "cell_type": "code",
      "execution_count": 6,
      "metadata": {
        "tags": []
      },
      "outputs": [],
      "source": [
        "def pascal_voc_to_json(file_name):\n",
        "    json_object_list = dict()\n",
        "    with open(file_name, 'r') as file:\n",
        "        json_text = xmltodict.parse(file.read())\n",
        "        \n",
        "        #img_name = json_text['annotation']['path'].replace(\"E:\\Widow CV Data\\\\\", cwd)\n",
        "        img_name = json_text['annotation']['path'].split(\"\\\\\")[-1]\n",
        "        img_name = data_path + img_name\n",
        "        print(\"Image Name\")\n",
        "        print(img_name)\n",
        "        json_object_list[\"content\"] = img_name\n",
        "        json_object_list[\"annotation\"] = []\n",
        "        object_list = json_text['annotation']['object']\n",
        "        \n",
        "        if type(object_list) !=  type(collections.OrderedDict()):\n",
        "            for single_object in object_list:\n",
        "                json_object_list[\"annotation\"].append({\n",
        "                    'label':single_object['name'],\n",
        "                    'x_min':single_object['bndbox']['xmin'],\n",
        "                    'y_min':single_object['bndbox']['ymin'],\n",
        "                    'x_max':single_object['bndbox']['xmax'],\n",
        "                    'y_max':single_object['bndbox']['ymax'],\n",
        "                })\n",
        "        else:\n",
        "            single_object = object_list\n",
        "            json_object_list[\"annotation\"].append({\n",
        "                'label':single_object['name'],\n",
        "                'x_min':single_object['bndbox']['xmin'],\n",
        "                'y_min':single_object['bndbox']['ymin'],\n",
        "                'x_max':single_object['bndbox']['xmax'],\n",
        "                'y_max':single_object['bndbox']['ymax'],\n",
        "            })\n",
        "            \n",
        "        return json_object_list"
      ]
    },
    {
      "cell_type": "code",
      "execution_count": 7,
      "metadata": {
        "tags": [
          "outputPrepend"
        ]
      },
      "outputs": [
        {
          "output_type": "stream",
          "name": "stdout",
          "text": "-09-05_12-47-37-000.jpg\nImage Name\n/home/zac/RetinanetKeras/widowmaker_cv/ScreenShot_20-09-05_12-48-44-000.jpg\nImage Name\n/home/zac/RetinanetKeras/widowmaker_cv/ScreenShot_20-09-05_23-45-13-000.jpg\nImage Name\n/home/zac/RetinanetKeras/widowmaker_cv/ScreenShot_20-09-06_01-11-17-000.jpg\nImage Name\n/home/zac/RetinanetKeras/widowmaker_cv/ScreenShot_20-09-05_23-44-36-000.jpg\nImage Name\n/home/zac/RetinanetKeras/widowmaker_cv/ScreenShot_20-09-05_23-44-21-000.jpg\nImage Name\n/home/zac/RetinanetKeras/widowmaker_cv/ScreenShot_20-09-05_12-47-15-000.jpg\nImage Name\n/home/zac/RetinanetKeras/widowmaker_cv/ScreenShot_20-09-06_01-10-06-000.jpg\nImage Name\n/home/zac/RetinanetKeras/widowmaker_cv/ScreenShot_20-09-05_12-49-07-000.jpg\nImage Name\n/home/zac/RetinanetKeras/widowmaker_cv/ScreenShot_20-09-05_23-51-18-000.jpg\nImage Name\n/home/zac/RetinanetKeras/widowmaker_cv/ScreenShot_20-09-05_12-49-01-000.jpg\nImage Name\n/home/zac/RetinanetKeras/widowmaker_cv/ScreenShot_20-09-05_12-41-45-000.jpg\nImage Name\n/home/zac/RetinanetKeras/widowmaker_cv/ScreenShot_20-09-05_12-49-20-000.jpg\nImage Name\n/home/zac/RetinanetKeras/widowmaker_cv/ScreenShot_20-09-06_01-09-51-000.jpg\nImage Name\n/home/zac/RetinanetKeras/widowmaker_cv/ScreenShot_20-09-06_01-09-46-000.jpg\nImage Name\n/home/zac/RetinanetKeras/widowmaker_cv/ScreenShot_20-09-05_23-44-19-000.jpg\nImage Name\n/home/zac/RetinanetKeras/widowmaker_cv/ScreenShot_20-09-06_00-22-25-000.jpg\nImage Name\n/home/zac/RetinanetKeras/widowmaker_cv/ScreenShot_20-09-06_01-11-05-000.jpg\nImage Name\n/home/zac/RetinanetKeras/widowmaker_cv/ScreenShot_20-09-05_23-50-25-000.jpg\nImage Name\n/home/zac/RetinanetKeras/widowmaker_cv/ScreenShot_20-09-06_00-55-31-000.jpg\nImage Name\n/home/zac/RetinanetKeras/widowmaker_cv/ScreenShot_20-09-06_01-09-23-000.jpg\nImage Name\n/home/zac/RetinanetKeras/widowmaker_cv/ScreenShot_20-09-05_23-41-22-000.jpg\nImage Name\n/home/zac/RetinanetKeras/widowmaker_cv/ScreenShot_20-09-05_23-50-34-000.jpg\nImage Name\n/home/zac/RetinanetKeras/widowmaker_cv/ScreenShot_20-09-05_12-41-06-000.jpg\nImage Name\n/home/zac/RetinanetKeras/widowmaker_cv/ScreenShot_20-09-05_23-45-17-000.jpg\nImage Name\n/home/zac/RetinanetKeras/widowmaker_cv/ScreenShot_20-09-05_23-43-56-000.jpg\nImage Name\n/home/zac/RetinanetKeras/widowmaker_cv/ScreenShot_20-09-05_12-42-16-000.jpg\nImage Name\n/home/zac/RetinanetKeras/widowmaker_cv/ScreenShot_20-09-05_23-50-18-000.jpg\nImage Name\n/home/zac/RetinanetKeras/widowmaker_cv/ScreenShot_20-09-05_12-48-33-000.jpg\nImage Name\n/home/zac/RetinanetKeras/widowmaker_cv/ScreenShot_20-09-06_01-10-57-000.jpg\nImage Name\n/home/zac/RetinanetKeras/widowmaker_cv/ScreenShot_20-09-05_12-48-20-000.jpg\nImage Name\n/home/zac/RetinanetKeras/widowmaker_cv/ScreenShot_20-09-05_12-41-21-000.jpg\nImage Name\n/home/zac/RetinanetKeras/widowmaker_cv/ScreenShot_20-09-06_00-55-54-000.jpg\nImage Name\n/home/zac/RetinanetKeras/widowmaker_cv/ScreenShot_20-09-06_00-22-26-000.jpg\nImage Name\n/home/zac/RetinanetKeras/widowmaker_cv/ScreenShot_20-09-05_12-41-53-000.jpg\nImage Name\n/home/zac/RetinanetKeras/widowmaker_cv/ScreenShot_20-09-06_00-54-37-000.jpg\nImage Name\n/home/zac/RetinanetKeras/widowmaker_cv/ScreenShot_20-09-05_23-51-16-000.jpg\nImage Name\n/home/zac/RetinanetKeras/widowmaker_cv/ScreenShot_20-09-05_12-48-59-000.jpg\nImage Name\n/home/zac/RetinanetKeras/widowmaker_cv/ScreenShot_20-09-06_01-11-25-000.jpg\nImage Name\n/home/zac/RetinanetKeras/widowmaker_cv/ScreenShot_20-09-06_01-11-27-000.jpg\nImage Name\n/home/zac/RetinanetKeras/widowmaker_cv/ScreenShot_20-09-05_23-45-05-000.jpg\nImage Name\n/home/zac/RetinanetKeras/widowmaker_cv/ScreenShot_20-09-05_23-41-23-000.jpg\nImage Name\n/home/zac/RetinanetKeras/widowmaker_cv/ScreenShot_20-09-06_01-09-48-000.jpg\nImage Name\n/home/zac/RetinanetKeras/widowmaker_cv/ScreenShot_20-09-05_23-45-22-000.jpg\nImage Name\n/home/zac/RetinanetKeras/widowmaker_cv/ScreenShot_20-09-06_01-11-04-000.jpg\nImage Name\n/home/zac/RetinanetKeras/widowmaker_cv/ScreenShot_20-09-05_12-48-21-000.jpg\nImage Name\n/home/zac/RetinanetKeras/widowmaker_cv/ScreenShot_20-09-05_12-41-26-000.jpg\nImage Name\n/home/zac/RetinanetKeras/widowmaker_cv/ScreenShot_20-09-05_23-42-44-000.jpg\nImage Name\n/home/zac/RetinanetKeras/widowmaker_cv/ScreenShot_20-09-05_23-51-24-000.jpg\nImage Name\n/home/zac/RetinanetKeras/widowmaker_cv/ScreenShot_20-09-05_12-49-08-000.jpg\nImage Name\n/home/zac/RetinanetKeras/widowmaker_cv/ScreenShot_20-09-06_01-10-59-000.jpg\nImage Name\n/home/zac/RetinanetKeras/widowmaker_cv/ScreenShot_20-09-06_00-22-17-000.jpg\nImage Name\n/home/zac/RetinanetKeras/widowmaker_cv/ScreenShot_20-09-05_23-42-56-000.jpg\nImage Name\n/home/zac/RetinanetKeras/widowmaker_cv/ScreenShot_20-09-05_12-41-35-000.jpg\nImage Name\n/home/zac/RetinanetKeras/widowmaker_cv/ScreenShot_20-09-05_23-50-17-000.jpg\nImage Name\n/home/zac/RetinanetKeras/widowmaker_cv/ScreenShot_20-09-05_12-47-39-000.jpg\nImage Name\n/home/zac/RetinanetKeras/widowmaker_cv/ScreenShot_20-09-05_12-44-46-000.jpg\nImage Name\n/home/zac/RetinanetKeras/widowmaker_cv/ScreenShot_20-09-05_12-48-28-000.jpg\nImage Name\n/home/zac/RetinanetKeras/widowmaker_cv/ScreenShot_20-09-05_12-42-03-000.jpg\nImage Name\n/home/zac/RetinanetKeras/widowmaker_cv/ScreenShot_20-09-05_12-43-46-000.jpg\nImage Name\n/home/zac/RetinanetKeras/widowmaker_cv/ScreenShot_20-09-05_12-44-50-000.jpg\nImage Name\n/home/zac/RetinanetKeras/widowmaker_cv/ScreenShot_20-09-06_00-49-09-000.jpg\nImage Name\n/home/zac/RetinanetKeras/widowmaker_cv/ScreenShot_20-09-06_01-10-42-000.jpg\nImage Name\n/home/zac/RetinanetKeras/widowmaker_cv/ScreenShot_20-09-05_12-41-42-000.jpg\nImage Name\n/home/zac/RetinanetKeras/widowmaker_cv/ScreenShot_20-09-05_23-44-26-000.jpg\nImage Name\n/home/zac/RetinanetKeras/widowmaker_cv/ScreenShot_20-09-05_23-44-57-000.jpg\nImage Name\n/home/zac/RetinanetKeras/widowmaker_cv/ScreenShot_20-09-05_12-47-03-000.jpg\nImage Name\n/home/zac/RetinanetKeras/widowmaker_cv/ScreenShot_20-09-06_00-49-44-000.jpg\nImage Name\n/home/zac/RetinanetKeras/widowmaker_cv/ScreenShot_20-09-06_00-51-58-000.jpg\nImage Name\n/home/zac/RetinanetKeras/widowmaker_cv/ScreenShot_20-09-05_12-41-59-000.jpg\nImage Name\n/home/zac/RetinanetKeras/widowmaker_cv/ScreenShot_20-09-05_23-50-26-000.jpg\nImage Name\n/home/zac/RetinanetKeras/widowmaker_cv/ScreenShot_20-09-05_12-44-39-000.jpg\nImage Name\n/home/zac/RetinanetKeras/widowmaker_cv/ScreenShot_20-09-05_12-44-19-000.jpg\nImage Name\n/home/zac/RetinanetKeras/widowmaker_cv/ScreenShot_20-09-06_01-10-11-000.jpg\nImage Name\n/home/zac/RetinanetKeras/widowmaker_cv/ScreenShot_20-09-06_00-55-49-000.jpg\nImage Name\n/home/zac/RetinanetKeras/widowmaker_cv/ScreenShot_20-09-06_01-10-41-000.jpg\nImage Name\n/home/zac/RetinanetKeras/widowmaker_cv/ScreenShot_20-09-06_01-11-29-000.jpg\nImage Name\n/home/zac/RetinanetKeras/widowmaker_cv/ScreenShot_20-09-05_23-50-38-000.jpg\nImage Name\n/home/zac/RetinanetKeras/widowmaker_cv/ScreenShot_20-09-06_01-10-53-000.jpg\nImage Name\n/home/zac/RetinanetKeras/widowmaker_cv/ScreenShot_20-09-06_01-10-01-000.jpg\nImage Name\n/home/zac/RetinanetKeras/widowmaker_cv/ScreenShot_20-09-06_01-10-54-000.jpg\nImage Name\n/home/zac/RetinanetKeras/widowmaker_cv/ScreenShot_20-09-05_23-44-51-000.jpg\nImage Name\n/home/zac/RetinanetKeras/widowmaker_cv/ScreenShot_20-09-06_01-09-21-000.jpg\nImage Name\n/home/zac/RetinanetKeras/widowmaker_cv/ScreenShot_20-09-05_12-49-09-000.jpg\nImage Name\n/home/zac/RetinanetKeras/widowmaker_cv/ScreenShot_20-09-06_01-11-26-000.jpg\nImage Name\n/home/zac/RetinanetKeras/widowmaker_cv/ScreenShot_20-09-06_01-09-49-000.jpg\nImage Name\n/home/zac/RetinanetKeras/widowmaker_cv/ScreenShot_20-09-05_12-41-17-000.jpg\nImage Name\n/home/zac/RetinanetKeras/widowmaker_cv/ScreenShot_20-09-05_12-48-22-000.jpg\nImage Name\n/home/zac/RetinanetKeras/widowmaker_cv/ScreenShot_20-09-05_12-43-07-000.jpg\nImage Name\n/home/zac/RetinanetKeras/widowmaker_cv/ScreenShot_20-09-05_12-48-06-000.jpg\nImage Name\n/home/zac/RetinanetKeras/widowmaker_cv/ScreenShot_20-09-05_12-43-11-000.jpg\nImage Name\n/home/zac/RetinanetKeras/widowmaker_cv/ScreenShot_20-09-06_01-11-21-000.jpg\nImage Name\n/home/zac/RetinanetKeras/widowmaker_cv/ScreenShot_20-09-05_12-41-48-000.jpg\nImage Name\n/home/zac/RetinanetKeras/widowmaker_cv/ScreenShot_20-09-05_23-43-48-000.jpg\nImage Name\n/home/zac/RetinanetKeras/widowmaker_cv/ScreenShot_20-09-06_00-54-33-000.jpg\nImage Name\n/home/zac/RetinanetKeras/widowmaker_cv/ScreenShot_20-09-05_12-49-21-000.jpg\nImage Name\n/home/zac/RetinanetKeras/widowmaker_cv/ScreenShot_20-09-05_12-49-19-000.jpg\nImage Name\n/home/zac/RetinanetKeras/widowmaker_cv/ScreenShot_20-09-05_23-50-02-000.jpg\nImage Name\n/home/zac/RetinanetKeras/widowmaker_cv/ScreenShot_20-09-05_12-47-54-000.jpg\nImage Name\n/home/zac/RetinanetKeras/widowmaker_cv/ScreenShot_20-09-06_00-22-16-000.jpg\nImage Name\n/home/zac/RetinanetKeras/widowmaker_cv/ScreenShot_20-09-05_12-47-07-000.jpg\nImage Name\n/home/zac/RetinanetKeras/widowmaker_cv/ScreenShot_20-09-05_23-46-10-000.jpg\nImage Name\n/home/zac/RetinanetKeras/widowmaker_cv/ScreenShot_20-09-05_23-44-06-000.jpg\nImage Name\n/home/zac/RetinanetKeras/widowmaker_cv/ScreenShot_20-09-05_12-41-14-000.jpg\nImage Name\n/home/zac/RetinanetKeras/widowmaker_cv/ScreenShot_20-09-05_12-43-19-000.jpg\nImage Name\n/home/zac/RetinanetKeras/widowmaker_cv/ScreenShot_20-09-05_12-49-06-000.jpg\nImage Name\n/home/zac/RetinanetKeras/widowmaker_cv/ScreenShot_20-09-05_12-41-50-000.jpg\nImage Name\n/home/zac/RetinanetKeras/widowmaker_cv/ScreenShot_20-09-06_01-10-28-000.jpg\nImage Name\n/home/zac/RetinanetKeras/widowmaker_cv/ScreenShot_20-09-05_23-42-17-000.jpg\nImage Name\n/home/zac/RetinanetKeras/widowmaker_cv/ScreenShot_20-09-05_23-51-00-000.jpg\nImage Name\n/home/zac/RetinanetKeras/widowmaker_cv/ScreenShot_20-09-05_23-42-21-000.jpg\nImage Name\n/home/zac/RetinanetKeras/widowmaker_cv/ScreenShot_20-09-06_00-55-32-000.jpg\nImage Name\n/home/zac/RetinanetKeras/widowmaker_cv/ScreenShot_20-09-05_12-43-20-000.jpg\nImage Name\n/home/zac/RetinanetKeras/widowmaker_cv/ScreenShot_20-09-06_00-50-19-000.jpg\nImage Name\n/home/zac/RetinanetKeras/widowmaker_cv/ScreenShot_20-09-05_12-42-32-000.jpg\nImage Name\n/home/zac/RetinanetKeras/widowmaker_cv/ScreenShot_20-09-05_23-50-37-000.jpg\nImage Name\n/home/zac/RetinanetKeras/widowmaker_cv/ScreenShot_20-09-05_23-50-22-000.jpg\nImage Name\n/home/zac/RetinanetKeras/widowmaker_cv/ScreenShot_20-09-05_23-44-33-000.jpg\nImage Name\n/home/zac/RetinanetKeras/widowmaker_cv/ScreenShot_20-09-05_12-48-15-000.jpg\nImage Name\n/home/zac/RetinanetKeras/widowmaker_cv/ScreenShot_20-09-06_01-09-30-000.jpg\nImage Name\n/home/zac/RetinanetKeras/widowmaker_cv/ScreenShot_20-09-05_12-49-22-000.jpg\nImage Name\n/home/zac/RetinanetKeras/widowmaker_cv/ScreenShot_20-09-05_12-48-01-000.jpg\nImage Name\n/home/zac/RetinanetKeras/widowmaker_cv/ScreenShot_20-09-06_01-11-35-000.jpg\nImage Name\n/home/zac/RetinanetKeras/widowmaker_cv/ScreenShot_20-09-05_23-42-30-000.jpg\nImage Name\n/home/zac/RetinanetKeras/widowmaker_cv/ScreenShot_20-09-05_12-48-03-000.jpg\nImage Name\n/home/zac/RetinanetKeras/widowmaker_cv/ScreenShot_20-09-06_01-10-55-000.jpg\nImage Name\n/home/zac/RetinanetKeras/widowmaker_cv/ScreenShot_20-09-05_12-48-48-000.jpg\nImage Name\n/home/zac/RetinanetKeras/widowmaker_cv/ScreenShot_20-09-05_23-50-21-000.jpg\nImage Name\n/home/zac/RetinanetKeras/widowmaker_cv/ScreenShot_20-09-06_01-09-59-000.jpg\nImage Name\n/home/zac/RetinanetKeras/widowmaker_cv/ScreenShot_20-09-05_12-40-52-000.jpg\nImage Name\n/home/zac/RetinanetKeras/widowmaker_cv/ScreenShot_20-09-05_12-41-02-000.jpg\nImage Name\n/home/zac/RetinanetKeras/widowmaker_cv/ScreenShot_20-09-05_23-43-23-000.jpg\nImage Name\n/home/zac/RetinanetKeras/widowmaker_cv/ScreenShot_20-09-05_12-48-02-000.jpg\nImage Name\n/home/zac/RetinanetKeras/widowmaker_cv/ScreenShot_20-09-06_01-10-56-000.jpg\nImage Name\n/home/zac/RetinanetKeras/widowmaker_cv/ScreenShot_20-09-05_23-43-58-000.jpg\nImage Name\n/home/zac/RetinanetKeras/widowmaker_cv/ScreenShot_20-09-05_23-46-05-000.jpg\nImage Name\n/home/zac/RetinanetKeras/widowmaker_cv/ScreenShot_20-09-06_01-10-07-000.jpg\nImage Name\n/home/zac/RetinanetKeras/widowmaker_cv/ScreenShot_20-09-05_23-45-14-000.jpg\nImage Name\n/home/zac/RetinanetKeras/widowmaker_cv/ScreenShot_20-09-05_23-45-56-000.jpg\nImage Name\n/home/zac/RetinanetKeras/widowmaker_cv/ScreenShot_20-09-06_00-55-53-000.jpg\nImage Name\n/home/zac/RetinanetKeras/widowmaker_cv/ScreenShot_20-09-05_23-51-25-000.jpg\nImage Name\n/home/zac/RetinanetKeras/widowmaker_cv/ScreenShot_20-09-05_23-43-47-000.jpg\nImage Name\n/home/zac/RetinanetKeras/widowmaker_cv/ScreenShot_20-09-05_12-48-30-000.jpg\nImage Name\n/home/zac/RetinanetKeras/widowmaker_cv/ScreenShot_20-09-06_01-09-20-000.jpg\nImage Name\n/home/zac/RetinanetKeras/widowmaker_cv/ScreenShot_20-09-06_00-53-30-000.jpg\nImage Name\n/home/zac/RetinanetKeras/widowmaker_cv/ScreenShot_20-09-06_00-51-55-000.jpg\nImage Name\n/home/zac/RetinanetKeras/widowmaker_cv/ScreenShot_20-09-06_01-10-21-000.jpg\nImage Name\n/home/zac/RetinanetKeras/widowmaker_cv/ScreenShot_20-09-05_23-51-27-000.jpg\nImage Name\n/home/zac/RetinanetKeras/widowmaker_cv/ScreenShot_20-09-05_23-46-00-000.jpg\nImage Name\n/home/zac/RetinanetKeras/widowmaker_cv/ScreenShot_20-09-05_12-43-39-000.jpg\nImage Name\n/home/zac/RetinanetKeras/widowmaker_cv/ScreenShot_20-09-05_23-41-35-000.jpg\nImage Name\n/home/zac/RetinanetKeras/widowmaker_cv/ScreenShot_20-09-05_23-51-05-000.jpg\nImage Name\n/home/zac/RetinanetKeras/widowmaker_cv/ScreenShot_20-09-05_12-48-29-000.jpg\nImage Name\n/home/zac/RetinanetKeras/widowmaker_cv/ScreenShot_20-09-06_00-48-57-000.jpg\nImage Name\n/home/zac/RetinanetKeras/widowmaker_cv/ScreenShot_20-09-06_01-10-09-000.jpg\nImage Name\n/home/zac/RetinanetKeras/widowmaker_cv/ScreenShot_20-09-05_23-45-45-000.jpg\nImage Name\n/home/zac/RetinanetKeras/widowmaker_cv/ScreenShot_20-09-05_23-50-23-000.jpg\nImage Name\n/home/zac/RetinanetKeras/widowmaker_cv/ScreenShot_20-09-05_12-47-21-000.jpg\nImage Name\n/home/zac/RetinanetKeras/widowmaker_cv/ScreenShot_20-09-05_23-43-24-000.jpg\nImage Name\n/home/zac/RetinanetKeras/widowmaker_cv/ScreenShot_20-09-05_12-42-55-000.jpg\nImage Name\n/home/zac/RetinanetKeras/widowmaker_cv/ScreenShot_20-09-06_00-49-43-000.jpg\nImage Name\n/home/zac/RetinanetKeras/widowmaker_cv/ScreenShot_20-09-05_12-48-16-000.jpg\nImage Name\n/home/zac/RetinanetKeras/widowmaker_cv/ScreenShot_20-09-06_01-11-31-000.jpg\nImage Name\n/home/zac/RetinanetKeras/widowmaker_cv/ScreenShot_20-09-06_01-09-53-000.jpg\nImage Name\n/home/zac/RetinanetKeras/widowmaker_cv/ScreenShot_20-09-05_23-50-08-000.jpg\nImage Name\n/home/zac/RetinanetKeras/widowmaker_cv/ScreenShot_20-09-05_23-43-35-000.jpg\nImage Name\n/home/zac/RetinanetKeras/widowmaker_cv/ScreenShot_20-09-05_23-44-16-000.jpg\nImage Name\n/home/zac/RetinanetKeras/widowmaker_cv/ScreenShot_20-09-05_23-45-55-000.jpg\nImage Name\n/home/zac/RetinanetKeras/widowmaker_cv/ScreenShot_20-09-05_23-43-29-000.jpg\nImage Name\n/home/zac/RetinanetKeras/widowmaker_cv/ScreenShot_20-09-06_01-10-12-000.jpg\nImage Name\n/home/zac/RetinanetKeras/widowmaker_cv/ScreenShot_20-09-05_12-47-51-000.jpg\nImage Name\n/home/zac/RetinanetKeras/widowmaker_cv/ScreenShot_20-09-05_23-45-50-000.jpg\nImage Name\n/home/zac/RetinanetKeras/widowmaker_cv/ScreenShot_20-09-05_23-42-45-000.jpg\nImage Name\n/home/zac/RetinanetKeras/widowmaker_cv/ScreenShot_20-09-05_23-44-11-000.jpg\nImage Name\n/home/zac/RetinanetKeras/widowmaker_cv/ScreenShot_20-09-05_12-42-59-000.jpg\nImage Name\n/home/zac/RetinanetKeras/widowmaker_cv/ScreenShot_20-09-05_23-45-51-000.jpg\nImage Name\n/home/zac/RetinanetKeras/widowmaker_cv/ScreenShot_20-09-05_12-44-12-000.jpg\nImage Name\n/home/zac/RetinanetKeras/widowmaker_cv/ScreenShot_20-09-05_23-50-42-000.jpg\nImage Name\n/home/zac/RetinanetKeras/widowmaker_cv/ScreenShot_20-09-06_00-48-58-000.jpg\nImage Name\n/home/zac/RetinanetKeras/widowmaker_cv/ScreenShot_20-09-05_23-45-24-000.jpg\nImage Name\n/home/zac/RetinanetKeras/widowmaker_cv/ScreenShot_20-09-05_23-44-34-000.jpg\nImage Name\n/home/zac/RetinanetKeras/widowmaker_cv/ScreenShot_20-09-05_23-45-21-000.jpg\nImage Name\n/home/zac/RetinanetKeras/widowmaker_cv/ScreenShot_20-09-05_12-43-32-000.jpg\nImage Name\n/home/zac/RetinanetKeras/widowmaker_cv/ScreenShot_20-09-06_01-09-31-000.jpg\nImage Name\n/home/zac/RetinanetKeras/widowmaker_cv/ScreenShot_20-09-05_12-48-32-000.jpg\nImage Name\n/home/zac/RetinanetKeras/widowmaker_cv/ScreenShot_20-09-05_23-45-37-000.jpg\nImage Name\n/home/zac/RetinanetKeras/widowmaker_cv/ScreenShot_20-09-05_23-45-46-000.jpg\nImage Name\n/home/zac/RetinanetKeras/widowmaker_cv/ScreenShot_20-09-05_23-50-53-000.jpg\nImage Name\n/home/zac/RetinanetKeras/widowmaker_cv/ScreenShot_20-09-05_23-45-59-000.jpg\nImage Name\n/home/zac/RetinanetKeras/widowmaker_cv/ScreenShot_20-09-06_01-10-04-000.jpg\nImage Name\n/home/zac/RetinanetKeras/widowmaker_cv/ScreenShot_20-09-05_23-44-10-000.jpg\nImage Name\n/home/zac/RetinanetKeras/widowmaker_cv/ScreenShot_20-09-05_12-42-20-000.jpg\nImage Name\n/home/zac/RetinanetKeras/widowmaker_cv/ScreenShot_20-09-06_00-55-30-000.jpg\nImage Name\n/home/zac/RetinanetKeras/widowmaker_cv/ScreenShot_20-09-05_23-45-33-000.jpg\nImage Name\n/home/zac/RetinanetKeras/widowmaker_cv/ScreenShot_20-09-05_12-47-20-000.jpg\nImage Name\n/home/zac/RetinanetKeras/widowmaker_cv/ScreenShot_20-09-05_23-45-29-000.jpg\nImage Name\n/home/zac/RetinanetKeras/widowmaker_cv/ScreenShot_20-09-06_01-09-54-000.jpg\nImage Name\n/home/zac/RetinanetKeras/widowmaker_cv/ScreenShot_20-09-06_01-11-23-000.jpg\nImage Name\n/home/zac/RetinanetKeras/widowmaker_cv/ScreenShot_20-09-06_01-10-38-000.jpg\nImage Name\n/home/zac/RetinanetKeras/widowmaker_cv/ScreenShot_20-09-05_12-48-49-000.jpg\nImage Name\n/home/zac/RetinanetKeras/widowmaker_cv/ScreenShot_20-09-06_01-10-29-000.jpg\nImage Name\n/home/zac/RetinanetKeras/widowmaker_cv/ScreenShot_20-09-05_12-47-38-000.jpg\nImage Name\n/home/zac/RetinanetKeras/widowmaker_cv/ScreenShot_20-09-05_23-50-57-000.jpg\nImage Name\n/home/zac/RetinanetKeras/widowmaker_cv/ScreenShot_20-09-05_23-42-54-000.jpg\nImage Name\n/home/zac/RetinanetKeras/widowmaker_cv/ScreenShot_20-09-05_12-47-04-000.jpg\nImage Name\n/home/zac/RetinanetKeras/widowmaker_cv/ScreenShot_20-09-06_01-10-43-000.jpg\nImage Name\n/home/zac/RetinanetKeras/widowmaker_cv/ScreenShot_20-09-05_12-43-15-000.jpg\nImage Name\n/home/zac/RetinanetKeras/widowmaker_cv/ScreenShot_20-09-06_01-09-32-000.jpg\nImage Name\n/home/zac/RetinanetKeras/widowmaker_cv/ScreenShot_20-09-05_12-49-23-000.jpg\nImage Name\n/home/zac/RetinanetKeras/widowmaker_cv/ScreenShot_20-09-05_12-47-36-000.jpg\nImage Name\n/home/zac/RetinanetKeras/widowmaker_cv/ScreenShot_20-09-05_12-40-55-000.jpg\nImage Name\n/home/zac/RetinanetKeras/widowmaker_cv/ScreenShot_20-09-05_23-44-04-000.jpg\nImage Name\n/home/zac/RetinanetKeras/widowmaker_cv/ScreenShot_20-09-05_23-51-03-000.jpg\nImage Name\n/home/zac/RetinanetKeras/widowmaker_cv/ScreenShot_20-09-06_01-09-52-000.jpg\nImage Name\n/home/zac/RetinanetKeras/widowmaker_cv/ScreenShot_20-09-06_01-09-47-000.jpg\nImage Name\n/home/zac/RetinanetKeras/widowmaker_cv/ScreenShot_20-09-05_12-44-21-000.jpg\nImage Name\n/home/zac/RetinanetKeras/widowmaker_cv/ScreenShot_20-09-05_23-42-53-000.jpg\nImage Name\n/home/zac/RetinanetKeras/widowmaker_cv/ScreenShot_20-09-06_01-09-50-000.jpg\nImage Name\n/home/zac/RetinanetKeras/widowmaker_cv/ScreenShot_20-09-06_01-09-57-000.jpg\nImage Name\n/home/zac/RetinanetKeras/widowmaker_cv/ScreenShot_20-09-06_01-11-28-000.jpg\nImage Name\n/home/zac/RetinanetKeras/widowmaker_cv/ScreenShot_20-09-06_01-11-18-000.jpg\nImage Name\n/home/zac/RetinanetKeras/widowmaker_cv/ScreenShot_20-09-05_23-51-19-000.jpg\nImage Name\n/home/zac/RetinanetKeras/widowmaker_cv/ScreenShot_20-09-06_01-09-29-000.jpg\nImage Name\n/home/zac/RetinanetKeras/widowmaker_cv/ScreenShot_20-09-05_12-43-40-000.jpg\nImage Name\n/home/zac/RetinanetKeras/widowmaker_cv/ScreenShot_20-09-05_12-43-24-000.jpg\nImage Name\n/home/zac/RetinanetKeras/widowmaker_cv/ScreenShot_20-09-05_23-44-37-000.jpg\nImage Name\n/home/zac/RetinanetKeras/widowmaker_cv/ScreenShot_20-09-05_23-44-58-000.jpg\nImage Name\n/home/zac/RetinanetKeras/widowmaker_cv/ScreenShot_20-09-05_12-42-08-000.jpg\nImage Name\n/home/zac/RetinanetKeras/widowmaker_cv/ScreenShot_20-09-06_01-10-39-000.jpg\nImage Name\n/home/zac/RetinanetKeras/widowmaker_cv/ScreenShot_20-09-05_12-47-48-000.jpg\n/home/zac/RetinanetKeras/widowmaker_cv/widow_cv.json\n"
        }
      ],
      "source": [
        "def xml_list_to_json_file(xml_list, output_filename):\n",
        "    output_filename = output_filename\n",
        "    with open(output_filename, \"w+\") as output_file:\n",
        "        for xml_file in xml_list:\n",
        "            json = pascal_voc_to_json(xml_file)\n",
        "            output_file.write(str(json).replace(\"'\", '\"') + \"\\n\")\n",
        "    return output_filename"
      ]
    },
    {
      "cell_type": "code",
      "execution_count": null,
      "metadata": {},
      "outputs": [],
      "source": [
        "filelist = []\n",
        "for filename in os.listdir(data_path):\n",
        "  if filename.endswith(\".xml\"):\n",
        "    filelist.append(data_path + filename)\n",
        "\n",
        "print(len(filelist))\n",
        "print(xml_list_to_json_file(filelist, json_data_file))"
      ]
    },
    {
      "cell_type": "code",
      "metadata": {
        "id": "pOuAUjBgFAg9",
        "colab_type": "code",
        "colab": {
          "base_uri": "https://localhost:8080/",
          "height": 575
        },
        "outputId": "9996ace9-062a-42b1-d735-92cc42dde9e0"
      },
      "source": [
        "show_image_objects(df.iloc[0])"
      ],
      "execution_count": 8,
      "outputs": [
        {
          "output_type": "error",
          "ename": "NameError",
          "evalue": "name 'show_image_objects' is not defined",
          "traceback": [
            "\u001b[0;31m---------------------------------------------------------------------------\u001b[0m",
            "\u001b[0;31mNameError\u001b[0m                                 Traceback (most recent call last)",
            "\u001b[0;32m<ipython-input-8-0e37e88e2271>\u001b[0m in \u001b[0;36m<module>\u001b[0;34m\u001b[0m\n\u001b[0;32m----> 1\u001b[0;31m \u001b[0mshow_image_objects\u001b[0m\u001b[0;34m(\u001b[0m\u001b[0mdf\u001b[0m\u001b[0;34m.\u001b[0m\u001b[0miloc\u001b[0m\u001b[0;34m[\u001b[0m\u001b[0;36m0\u001b[0m\u001b[0;34m]\u001b[0m\u001b[0;34m)\u001b[0m\u001b[0;34m\u001b[0m\u001b[0;34m\u001b[0m\u001b[0m\n\u001b[0m",
            "\u001b[0;31mNameError\u001b[0m: name 'show_image_objects' is not defined"
          ]
        }
      ]
    },
    {
      "cell_type": "code",
      "metadata": {
        "id": "t9NCAxgVGkvY",
        "colab_type": "code",
        "colab": {
          "base_uri": "https://localhost:8080/",
          "height": 575
        },
        "outputId": "f0c31ec2-c39e-417b-ec88-6b1955db711d"
      },
      "source": [
        "show_image_objects(df.iloc[5])"
      ],
      "execution_count": null,
      "outputs": []
    },
    {
      "cell_type": "markdown",
      "metadata": {
        "id": "dA6Erly6GpVh",
        "colab_type": "text"
      },
      "source": [
        "# Preprocessing"
      ]
    },
    {
      "cell_type": "code",
      "metadata": {
        "id": "JRa26crVdmIM",
        "colab_type": "code",
        "colab": {},
        "tags": []
      },
      "source": [
        "RANDOM_SEED = int(random.random() * 1000000)\n",
        "train_df, test_df = train_test_split(\n",
        "  df, \n",
        "  test_size=0.1, \n",
        "  random_state=RANDOM_SEED\n",
        ")\n",
        "print(train_df)\n",
        "print(test_df)"
      ],
      "execution_count": null,
      "outputs": []
    },
    {
      "cell_type": "code",
      "metadata": {
        "id": "BdVj_uKyTQ2e",
        "colab_type": "code",
        "colab": {}
      },
      "source": [
        "train_df.to_csv(ANNOTATIONS_FILE, index=False, header=None)"
      ],
      "execution_count": null,
      "outputs": []
    },
    {
      "cell_type": "code",
      "metadata": {
        "id": "uMObRBMHaIPs",
        "colab_type": "code",
        "colab": {
          "base_uri": "https://localhost:8080/",
          "height": 34
        },
        "outputId": "1d95173e-122c-46d9-884f-1aeb8e9f622e",
        "tags": []
      },
      "source": [
        "!head classes.csv\n",
        "!head annotations.csv"
      ],
      "execution_count": null,
      "outputs": []
    },
    {
      "cell_type": "markdown",
      "metadata": {
        "id": "20be3_YS71pK",
        "colab_type": "text"
      },
      "source": [
        "# Training"
      ]
    },
    {
      "cell_type": "code",
      "metadata": {
        "id": "vSG81kLKyI5E",
        "colab_type": "code",
        "colab": {
          "base_uri": "https://localhost:8080/",
          "height": 34
        },
        "outputId": "ae4fa338-1bdd-4faf-e884-95beaf20b81f",
        "tags": []
      },
      "source": [
        "URL_MODEL = 'https://github.com/fizyr/keras-retinanet/releases/download/0.5.1/resnet50_coco_best_v2.1.0.h5'\n",
        "urllib.request.urlretrieve(URL_MODEL, PRETRAINED_MODEL)\n",
        "\n",
        "print('Downloaded pretrained model to ' + PRETRAINED_MODEL)"
      ],
      "execution_count": null,
      "outputs": []
    },
    {
      "cell_type": "code",
      "metadata": {
        "id": "5DgiQ4FR0go6",
        "colab_type": "code",
        "colab": {
          "base_uri": "https://localhost:8080/",
          "height": 1000
        },
        "outputId": "8d0ecbc3-a47c-4030-9e84-72a7edaf642e",
        "tags": [
          "outputPrepend"
        ]
      },
      "source": [
        "!keras_retinanet/bin/train.py --freeze-backbone --random-transform --batch-size 8 --steps 30 --epochs 10 csv annotations.csv classes.csv\n",
        "#os.chdir(\"keras-retinanet\")\n",
        "#!keras_retinanet/bin/train.py --freeze-backbone --random-transform --weights {PRETRAINED_MODEL} --batch-size 8 --steps 30 --epochs 10 csv annotations.csv classes.csv"
      ],
      "execution_count": null,
      "outputs": []
    },
    {
      "cell_type": "markdown",
      "metadata": {
        "id": "To58vY_v732i",
        "colab_type": "text"
      },
      "source": [
        "# Loading the trained model"
      ]
    },
    {
      "cell_type": "code",
      "metadata": {
        "id": "blCE-SK10hiF",
        "colab_type": "code",
        "colab": {
          "base_uri": "https://localhost:8080/",
          "height": 85
        },
        "outputId": "6c76bce6-125e-4e53-e453-5f80da9012e7",
        "tags": []
      },
      "source": [
        "!ls snapshots"
      ],
      "execution_count": null,
      "outputs": []
    },
    {
      "cell_type": "code",
      "metadata": {
        "id": "hefsKSMOptkw",
        "colab_type": "code",
        "colab": {
          "base_uri": "https://localhost:8080/",
          "height": 901
        },
        "outputId": "eb41e9d4-c1ea-4c5e-eaf4-d728abe440bd",
        "tags": []
      },
      "source": [
        "model_path = os.path.join('snapshots', sorted(os.listdir('snapshots'), reverse=True)[0])\n",
        "print(model_path)\n",
        "\n",
        "model = models.load_model(model_path, backbone_name='resnet50')\n",
        "model = models.convert_model(model)\n",
        "\n",
        "labels_to_names = pd.read_csv(CLASSES_FILE, header=None).T.loc[0].to_dict()"
      ],
      "execution_count": null,
      "outputs": []
    },
    {
      "cell_type": "markdown",
      "metadata": {
        "id": "ABfa4b44784Q",
        "colab_type": "text"
      },
      "source": [
        "# Predictions"
      ]
    },
    {
      "cell_type": "code",
      "metadata": {
        "id": "qFFPSLzyaAtb",
        "colab_type": "code",
        "colab": {}
      },
      "source": [
        "def predict(image):\n",
        "  image = preprocess_image(image.copy())\n",
        "  image, scale = resize_image(image)\n",
        "\n",
        "  boxes, scores, labels = model.predict_on_batch(\n",
        "    np.expand_dims(image, axis=0)\n",
        "  )\n",
        "\n",
        "  boxes /= scale\n",
        "\n",
        "  return boxes, scores, labels"
      ],
      "execution_count": null,
      "outputs": []
    },
    {
      "cell_type": "code",
      "metadata": {
        "id": "VOQDuwCepwfg",
        "colab_type": "code",
        "colab": {}
      },
      "source": [
        "def draw_detections(image, boxes, scores, labels):\n",
        "  print(\"Drawing Detections\")\n",
        "  for box, score, label in zip(boxes[0], scores[0], labels[0]):\n",
        "    if score < THRES_SCORE:\n",
        "        break\n",
        "\n",
        "    color = label_color(label)\n",
        "\n",
        "    b = box.astype(int)\n",
        "    draw_box(image, b, color=color)\n",
        "\n",
        "    caption = \"{} {:.3f}\".format(labels_to_names[label], score)\n",
        "    draw_caption(image, b, caption)\n"
      ],
      "execution_count": null,
      "outputs": []
    },
    {
      "cell_type": "code",
      "metadata": {
        "id": "QymE_iLFaDlL",
        "colab_type": "code",
        "colab": {}
      },
      "source": [
        "def show_detected_objects(image_row):\n",
        "  img_path = image_row.image_name\n",
        "  \n",
        "  image = read_image_bgr(img_path)\n",
        "\n",
        "  boxes, scores, labels = predict(image)\n",
        "\n",
        "  draw = image.copy()\n",
        "  draw = cv2.cvtColor(draw, cv2.COLOR_BGR2RGB)\n",
        "\n",
        "  true_box = [\n",
        "    image_row.x_min, image_row.y_min, image_row.x_max, image_row.y_max\n",
        "  ]\n",
        "  draw_box(draw, true_box, color=(255, 255, 0))\n",
        "  \n",
        "  draw_detections(draw, boxes, scores, labels)\n",
        "\n",
        "  plt.axis('off')\n",
        "  plt.imshow(draw)\n",
        "  plt.show()"
      ],
      "execution_count": null,
      "outputs": []
    },
    {
      "cell_type": "code",
      "metadata": {
        "id": "XJs4Czdp_y9q",
        "colab_type": "code",
        "colab": {
          "base_uri": "https://localhost:8080/",
          "height": 359
        },
        "outputId": "0abeb1e6-be6e-4551-8cab-34ecbf8ac40b"
      },
      "source": [
        "test_df.head(n=10)"
      ],
      "execution_count": null,
      "outputs": []
    },
    {
      "cell_type": "code",
      "metadata": {
        "id": "CVBQWHKPgcjy",
        "colab_type": "code",
        "colab": {
          "base_uri": "https://localhost:8080/",
          "height": 575
        },
        "outputId": "c538e993-7e6f-4bdd-ecf8-6a37ae6e5b82",
        "tags": []
      },
      "source": [
        "show_detected_objects(test_df.iloc[0])"
      ],
      "execution_count": null,
      "outputs": []
    },
    {
      "cell_type": "code",
      "metadata": {
        "id": "2b-Wm_dcAHwN",
        "colab_type": "code",
        "colab": {
          "base_uri": "https://localhost:8080/",
          "height": 575
        },
        "outputId": "c991a4d6-8c84-40b8-a384-0e1f391776eb",
        "tags": []
      },
      "source": [
        "show_detected_objects(test_df.iloc[1])"
      ],
      "execution_count": null,
      "outputs": []
    },
    {
      "cell_type": "code",
      "metadata": {
        "id": "2fZKnhAZKHVv",
        "colab_type": "code",
        "colab": {
          "base_uri": "https://localhost:8080/",
          "height": 575
        },
        "outputId": "e7b8e09e-4cb7-4642-824e-5efed9810ec0",
        "tags": []
      },
      "source": [
        "show_detected_objects(test_df.iloc[2])"
      ],
      "execution_count": null,
      "outputs": []
    },
    {
      "cell_type": "code",
      "execution_count": null,
      "metadata": {
        "tags": []
      },
      "outputs": [],
      "source": [
        "show_detected_objects(test_df.iloc[15])"
      ]
    },
    {
      "cell_type": "code",
      "execution_count": null,
      "metadata": {},
      "outputs": [],
      "source": [
        "test_df.iloc[4]"
      ]
    },
    {
      "cell_type": "code",
      "execution_count": null,
      "metadata": {},
      "outputs": [],
      "source": []
    }
  ]
}